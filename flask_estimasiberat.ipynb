{
  "nbformat": 4,
  "nbformat_minor": 0,
  "metadata": {
    "colab": {
      "provenance": []
    },
    "kernelspec": {
      "name": "python3",
      "display_name": "Python 3"
    },
    "language_info": {
      "name": "python"
    }
  },
  "cells": [
    {
      "cell_type": "code",
      "execution_count": 3,
      "metadata": {
        "id": "u-CikzPT20fk",
        "colab": {
          "base_uri": "https://localhost:8080/",
          "height": 245
        },
        "outputId": "9836c657-1f13-4294-97a5-7b76d0564418"
      },
      "outputs": [
        {
          "output_type": "error",
          "ename": "FileNotFoundError",
          "evalue": "[Errno 2] No such file or directory: 'C:/Predict/modelok.pkl'",
          "traceback": [
            "\u001b[0;31m---------------------------------------------------------------------------\u001b[0m",
            "\u001b[0;31mFileNotFoundError\u001b[0m                         Traceback (most recent call last)",
            "\u001b[0;32m<ipython-input-3-4ced589dfe6d>\u001b[0m in \u001b[0;36m<cell line: 11>\u001b[0;34m()\u001b[0m\n\u001b[1;32m      9\u001b[0m \u001b[0;34m\u001b[0m\u001b[0m\n\u001b[1;32m     10\u001b[0m \u001b[0;31m# Buka file model dalam mode binary read ('rb')\u001b[0m\u001b[0;34m\u001b[0m\u001b[0;34m\u001b[0m\u001b[0m\n\u001b[0;32m---> 11\u001b[0;31m \u001b[0;32mwith\u001b[0m \u001b[0mopen\u001b[0m\u001b[0;34m(\u001b[0m\u001b[0mfile_path\u001b[0m\u001b[0;34m,\u001b[0m \u001b[0;34m'rb'\u001b[0m\u001b[0;34m)\u001b[0m \u001b[0;32mas\u001b[0m \u001b[0mmodel_file\u001b[0m\u001b[0;34m:\u001b[0m\u001b[0;34m\u001b[0m\u001b[0;34m\u001b[0m\u001b[0m\n\u001b[0m\u001b[1;32m     12\u001b[0m     \u001b[0;31m# Lakukan operasi yang diperlukan pada file (misalnya, load model)\u001b[0m\u001b[0;34m\u001b[0m\u001b[0;34m\u001b[0m\u001b[0m\n\u001b[1;32m     13\u001b[0m     \u001b[0mmodel\u001b[0m \u001b[0;34m=\u001b[0m \u001b[0mpickle\u001b[0m\u001b[0;34m.\u001b[0m\u001b[0mload\u001b[0m\u001b[0;34m(\u001b[0m\u001b[0mmodel_file\u001b[0m\u001b[0;34m)\u001b[0m\u001b[0;34m\u001b[0m\u001b[0;34m\u001b[0m\u001b[0m\n",
            "\u001b[0;31mFileNotFoundError\u001b[0m: [Errno 2] No such file or directory: 'C:/Predict/modelok.pkl'"
          ]
        }
      ],
      "source": [
        "from flask import Flask, request, render_template\n",
        "import pickle\n",
        "import os\n",
        "\n",
        "app = Flask(__name__)\n",
        "\n",
        "# Lokasi file model\n",
        "file_path = 'C:/Predict/modelok.pkl'\n",
        "\n",
        "# Buka file model dalam mode binary read ('rb')\n",
        "with open(file_path, 'rb') as model_file:\n",
        "    # Lakukan operasi yang diperlukan pada file (misalnya, load model)\n",
        "    model = pickle.load(model_file)\n",
        "\n",
        "# Tentukan direktori template sebagai direktori C:/Predict\n",
        "template_dir = os.path.abspath('C:/Predict')\n",
        "app = Flask(__name__, template_folder=template_dir)\n",
        "\n",
        "@app.route('/')\n",
        "def index():\n",
        "    return render_template('index.html', Estimated_Weight=0, Height=0, Width=0, LengthVer=0, LengthDia=0, LengthCro=0)\n",
        "\n",
        "@app.route('/predict', methods=['POST'])\n",
        "def predict():\n",
        "    # Mendapatkan nilai dari form\n",
        "    Height, Width, LengthVer, LengthDia, LengthCro = [float(x) for x in request.form.values()]\n",
        "\n",
        "    # Membuat list data\n",
        "    data = [Height, Width, LengthVer, LengthDia, LengthCro]\n",
        "\n",
        "    # Melakukan prediksi menggunakan model\n",
        "    prediction = model.predict([data])\n",
        "    output = round(float(prediction[0]), 2)\n",
        "\n",
        "    # Menampilkan hasil prediksi di halaman HTML\n",
        "    return render_template('index.html', Estimated_Weight=output, Height=Height, Width=Width, LengthVer=LengthVer, LengthDia=LengthDia, LengthCro=LengthCro)\n",
        "\n",
        "if __name__ == '__main__':\n",
        "    app.run(debug=True)\n"
      ]
    }
  ]
}